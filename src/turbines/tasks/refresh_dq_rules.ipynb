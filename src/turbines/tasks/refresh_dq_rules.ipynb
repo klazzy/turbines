{
 "cells": [
  {
   "cell_type": "markdown",
   "metadata": {
    "application/vnd.databricks.v1+cell": {
     "cellMetadata": {},
     "inputWidgets": {},
     "nuid": "9a626959-61c8-4bba-84d2-2a4ecab1f7ec",
     "showTitle": false,
     "title": ""
    }
   },
   "source": [
    "# Refresh DQ expectations\n",
    "\n",
    "This notebooks represents the initial creation/refresh of a set of data quality rules that are applied as DLT expectations in the data pipeline. This is executed as a task prior to each invocation of the DLT pipeline, but in reality could either be run just once, or managed by a data quality process/framework that stands alone from the pipeline."
   ]
  },
  {
   "cell_type": "code",
   "execution_count": 0,
   "metadata": {
    "application/vnd.databricks.v1+cell": {
     "cellMetadata": {},
     "inputWidgets": {},
     "nuid": "9198e987-5606-403d-9f6d-8f14e6a4017f",
     "showTitle": false,
     "title": ""
    }
   },
   "outputs": [],
   "source": [
    "# Create the names and expressions for the DQ expectations/rules with accompanying failure action\n",
    "schema = \"target_table STRING, name STRING, expr STRING, failure_action STRING\"\n",
    "\n",
    "silver_table = \"silver_turbine\"\n",
    "silver_expectations = [\n",
    "    (silver_table, \"Turbine id is non-null\", \"(turbine_id IS NOT NULL)\", \"drop\"),\n",
    "    (silver_table, \"Wind speed is positive\", \"(wind_speed IS NOT NULL) AND (wind_speed >= 0)\", \"drop\"),\n",
    "    (silver_table, \"Wind direction between 0-360\", \"(wind_direction IS NOT NULL) AND (wind_direction >= 0) AND (wind_direction < 360)\", \"drop\"),\n",
    "    (silver_table, \"Power output is non-null\", \"power_output IS NOT NULL\", \"drop\")\n",
    "]\n",
    "\n",
    "# Store this in a delta table\n",
    "df = spark.createDataFrame(silver_expectations, schema)\n",
    "df.write.format(\"delta\").mode(\"overwrite\").saveAsTable(\"workspace.turbines.expectations\")"
   ]
  }
 ],
 "metadata": {
  "application/vnd.databricks.v1+notebook": {
   "dashboards": [],
   "language": "python",
   "notebookMetadata": {
    "pythonIndentUnit": 2
   },
   "notebookName": "dlt_pipeline",
   "widgets": {}
  },
  "kernelspec": {
   "display_name": "Python 3",
   "language": "python",
   "name": "python3"
  },
  "language_info": {
   "name": "python",
   "version": "3.11.4"
  }
 },
 "nbformat": 4,
 "nbformat_minor": 0
}
