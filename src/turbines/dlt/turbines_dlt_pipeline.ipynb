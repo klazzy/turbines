{
 "cells": [
  {
   "cell_type": "markdown",
   "metadata": {
    "application/vnd.databricks.v1+cell": {
     "cellMetadata": {},
     "inputWidgets": {},
     "nuid": "9a626959-61c8-4bba-84d2-2a4ecab1f7ec",
     "showTitle": false,
     "title": ""
    }
   },
   "source": [
    "# 🏭 DLT pipeline\n",
    "\n",
    "This Delta Live Tables (DLT) definition is executed using a pipeline defined in resources/turbines.pipeline.yml.\n",
    "\n",
    "### 📦 Import libraries"
   ]
  },
  {
   "cell_type": "code",
   "execution_count": 0,
   "metadata": {
    "application/vnd.databricks.v1+cell": {
     "cellMetadata": {},
     "inputWidgets": {},
     "nuid": "9198e987-5606-403d-9f6d-8f14e6a4017f",
     "showTitle": false,
     "title": ""
    }
   },
   "outputs": [],
   "source": [
    "# Import DLT and src/turbines\n",
    "import dlt\n",
    "import sys\n",
    "# from databricks.sdk.runtime import spark\n",
    "\n",
    "sys.path.append(spark.conf.get(\"bundle.sourcePath\", \".\"))\n",
    "from turbines.transformations.bronze import *\n",
    "from turbines.transformations.silver import *\n",
    "from turbines.transformations.gold import *\n",
    "from turbines.dq.expectations import get_rules_for_table"
   ]
  },
  {
   "cell_type": "markdown",
   "metadata": {},
   "source": [
    "### 🖊️ Get parameters & DQ rules"
   ]
  },
  {
   "cell_type": "code",
   "execution_count": null,
   "metadata": {},
   "outputs": [],
   "source": [
    "# Get parameters\n",
    "landing_path = spark.conf.get(\"landing.path\")\n",
    "expectations_table = spark.conf.get(\"expectations.table\")\n",
    "\n",
    "# Get all the DQ rules from the expectations table\n",
    "rules_df = spark.read.table(expectations_table)"
   ]
  },
  {
   "cell_type": "markdown",
   "metadata": {},
   "source": [
    "### 💬 Define table names"
   ]
  },
  {
   "cell_type": "code",
   "execution_count": null,
   "metadata": {},
   "outputs": [],
   "source": [
    "bronze_table_name = \"bronze_turbine\"\n",
    "silver_table_name = \"silver_turbine\"\n",
    "quarantine_table_name = \"quarantine_turbine\"\n",
    "gold_table_name = \"gold_turbine_daily_stats\""
   ]
  },
  {
   "cell_type": "markdown",
   "metadata": {},
   "source": [
    "### 🥉 Bronze table"
   ]
  },
  {
   "cell_type": "code",
   "execution_count": null,
   "metadata": {},
   "outputs": [],
   "source": [
    "@dlt.table(\n",
    "      name = bronze_table_name,\n",
    "      comment = \"Raw turbine telemetry data\"\n",
    ")\n",
    "def bronze_turbine():\n",
    "      df = (spark.readStream.format(\"cloudFiles\")\n",
    "          .option(\"cloudFiles.format\", \"csv\")\n",
    "          .option(\"cloudFiles.inferColumnTypes\", True)\n",
    "          .option(\"delimiter\", \",\")\n",
    "          .option(\"header\", True)\n",
    "          .option(\"dateFormat\", \"yyyy-MM-dd\")\n",
    "          .load(landing_path)\n",
    "          .transform(add_file_metadata_column)\n",
    "      )\n",
    "      return df"
   ]
  },
  {
   "cell_type": "markdown",
   "metadata": {},
   "source": [
    "### 🥈 Silver Table"
   ]
  },
  {
   "cell_type": "code",
   "execution_count": null,
   "metadata": {},
   "outputs": [],
   "source": [
    "# Get drop rules for the silver table (also required by quarantine table)\n",
    "silver_drop_rules = get_rules_for_table(rules_df, silver_table_name, \"drop\")\n",
    "\n",
    "# Define the silver table\n",
    "@dlt.expect_all_or_drop(silver_drop_rules)\n",
    "@dlt.table(\n",
    "      name = silver_table_name,\n",
    "      comment = \"Cleaned turbine telemetry data\"\n",
    ")\n",
    "def silver_turbine():\n",
    "      df = (dlt.read_stream(bronze_table_name)\n",
    "            .transform(drop_audit_columns))\n",
    "\n",
    "      return df"
   ]
  },
  {
   "cell_type": "markdown",
   "metadata": {},
   "source": [
    "### ⛔ Quarantine table"
   ]
  },
  {
   "cell_type": "code",
   "execution_count": null,
   "metadata": {},
   "outputs": [],
   "source": [
    "@dlt.table(\n",
    "    name = quarantine_table_name,\n",
    "    comment = \"Bad turbine telemetry data\"\n",
    ")\n",
    "def quarantine_turbine():\n",
    "    return(dlt.read_stream(bronze_table_name)\n",
    "            .transform(drop_audit_columns)\n",
    "            .transform(quarantine, silver_drop_rules)\n",
    "    )"
   ]
  },
  {
   "cell_type": "markdown",
   "metadata": {},
   "source": [
    "### 🥇 Gold table"
   ]
  },
  {
   "cell_type": "code",
   "execution_count": null,
   "metadata": {},
   "outputs": [],
   "source": [
    "@dlt.table(\n",
    "    name = gold_table_name,\n",
    "    comment = \"Turbine telemetry data summarised each 24-hour period\"\n",
    ")\n",
    "def gold_turbine_daily_stats():\n",
    "    return (dlt.read_stream(silver_table_name)\n",
    "          .transform(summarise_daily)\n",
    "    )"
   ]
  }
 ],
 "metadata": {
  "application/vnd.databricks.v1+notebook": {
   "dashboards": [],
   "language": "python",
   "notebookMetadata": {
    "pythonIndentUnit": 2
   },
   "notebookName": "dlt_pipeline",
   "widgets": {}
  },
  "kernelspec": {
   "display_name": "Python 3",
   "language": "python",
   "name": "python3"
  },
  "language_info": {
   "name": "python",
   "version": "3.11.4"
  }
 },
 "nbformat": 4,
 "nbformat_minor": 0
}
